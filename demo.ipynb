{
  "nbformat": 4,
  "nbformat_minor": 0,
  "metadata": {
    "colab": {
      "name": "fewgen_demo.ipynb",
      "provenance": [],
      "authorship_tag": "ABX9TyNPCaWc94F7tinIiMardROL",
      "include_colab_link": true
    },
    "kernelspec": {
      "name": "python3",
      "display_name": "Python 3"
    },
    "language_info": {
      "name": "python"
    },
    "accelerator": "GPU",
    "widgets": {
      "application/vnd.jupyter.widget-state+json": {
        "b0c216732bc843b89a8f01d75067816b": {
          "model_module": "@jupyter-widgets/controls",
          "model_name": "HBoxModel",
          "model_module_version": "1.5.0",
          "state": {
            "_view_name": "HBoxView",
            "_dom_classes": [],
            "_model_name": "HBoxModel",
            "_view_module": "@jupyter-widgets/controls",
            "_model_module_version": "1.5.0",
            "_view_count": null,
            "_view_module_version": "1.5.0",
            "box_style": "",
            "layout": "IPY_MODEL_edb3d39dc8c64841bf4c03033a9de9ef",
            "_model_module": "@jupyter-widgets/controls",
            "children": [
              "IPY_MODEL_ff263b5016e9440d858de655ca69ace7",
              "IPY_MODEL_2465ee3c46944129a09acd12744f700a",
              "IPY_MODEL_619045ffb2254d4387b6136623e06518"
            ]
          }
        },
        "edb3d39dc8c64841bf4c03033a9de9ef": {
          "model_module": "@jupyter-widgets/base",
          "model_name": "LayoutModel",
          "model_module_version": "1.2.0",
          "state": {
            "_view_name": "LayoutView",
            "grid_template_rows": null,
            "right": null,
            "justify_content": null,
            "_view_module": "@jupyter-widgets/base",
            "overflow": null,
            "_model_module_version": "1.2.0",
            "_view_count": null,
            "flex_flow": null,
            "width": null,
            "min_width": null,
            "border": null,
            "align_items": null,
            "bottom": null,
            "_model_module": "@jupyter-widgets/base",
            "top": null,
            "grid_column": null,
            "overflow_y": null,
            "overflow_x": null,
            "grid_auto_flow": null,
            "grid_area": null,
            "grid_template_columns": null,
            "flex": null,
            "_model_name": "LayoutModel",
            "justify_items": null,
            "grid_row": null,
            "max_height": null,
            "align_content": null,
            "visibility": null,
            "align_self": null,
            "height": null,
            "min_height": null,
            "padding": null,
            "grid_auto_rows": null,
            "grid_gap": null,
            "max_width": null,
            "order": null,
            "_view_module_version": "1.2.0",
            "grid_template_areas": null,
            "object_position": null,
            "object_fit": null,
            "grid_auto_columns": null,
            "margin": null,
            "display": null,
            "left": null
          }
        },
        "ff263b5016e9440d858de655ca69ace7": {
          "model_module": "@jupyter-widgets/controls",
          "model_name": "HTMLModel",
          "model_module_version": "1.5.0",
          "state": {
            "_view_name": "HTMLView",
            "style": "IPY_MODEL_06c3d7cb00fb4849bd2178bcc51b9416",
            "_dom_classes": [],
            "description": "",
            "_model_name": "HTMLModel",
            "placeholder": "​",
            "_view_module": "@jupyter-widgets/controls",
            "_model_module_version": "1.5.0",
            "value": "100%",
            "_view_count": null,
            "_view_module_version": "1.5.0",
            "description_tooltip": null,
            "_model_module": "@jupyter-widgets/controls",
            "layout": "IPY_MODEL_c084f00f8bb5432eb3482340995f42de"
          }
        },
        "2465ee3c46944129a09acd12744f700a": {
          "model_module": "@jupyter-widgets/controls",
          "model_name": "FloatProgressModel",
          "model_module_version": "1.5.0",
          "state": {
            "_view_name": "ProgressView",
            "style": "IPY_MODEL_9ffce81dc942469382667f010c8b6fa9",
            "_dom_classes": [],
            "description": "",
            "_model_name": "FloatProgressModel",
            "bar_style": "success",
            "max": 32,
            "_view_module": "@jupyter-widgets/controls",
            "_model_module_version": "1.5.0",
            "value": 32,
            "_view_count": null,
            "_view_module_version": "1.5.0",
            "orientation": "horizontal",
            "min": 0,
            "description_tooltip": null,
            "_model_module": "@jupyter-widgets/controls",
            "layout": "IPY_MODEL_94801a38c8e349aba6458b7f36451026"
          }
        },
        "619045ffb2254d4387b6136623e06518": {
          "model_module": "@jupyter-widgets/controls",
          "model_name": "HTMLModel",
          "model_module_version": "1.5.0",
          "state": {
            "_view_name": "HTMLView",
            "style": "IPY_MODEL_954d8dadd4c04c4f960a41db58e7897c",
            "_dom_classes": [],
            "description": "",
            "_model_name": "HTMLModel",
            "placeholder": "​",
            "_view_module": "@jupyter-widgets/controls",
            "_model_module_version": "1.5.0",
            "value": " 32/32 [00:02&lt;00:00, 13.23it/s]",
            "_view_count": null,
            "_view_module_version": "1.5.0",
            "description_tooltip": null,
            "_model_module": "@jupyter-widgets/controls",
            "layout": "IPY_MODEL_8f5e085a0c064caf817ea53f99c887cf"
          }
        },
        "06c3d7cb00fb4849bd2178bcc51b9416": {
          "model_module": "@jupyter-widgets/controls",
          "model_name": "DescriptionStyleModel",
          "model_module_version": "1.5.0",
          "state": {
            "_view_name": "StyleView",
            "_model_name": "DescriptionStyleModel",
            "description_width": "",
            "_view_module": "@jupyter-widgets/base",
            "_model_module_version": "1.5.0",
            "_view_count": null,
            "_view_module_version": "1.2.0",
            "_model_module": "@jupyter-widgets/controls"
          }
        },
        "c084f00f8bb5432eb3482340995f42de": {
          "model_module": "@jupyter-widgets/base",
          "model_name": "LayoutModel",
          "model_module_version": "1.2.0",
          "state": {
            "_view_name": "LayoutView",
            "grid_template_rows": null,
            "right": null,
            "justify_content": null,
            "_view_module": "@jupyter-widgets/base",
            "overflow": null,
            "_model_module_version": "1.2.0",
            "_view_count": null,
            "flex_flow": null,
            "width": null,
            "min_width": null,
            "border": null,
            "align_items": null,
            "bottom": null,
            "_model_module": "@jupyter-widgets/base",
            "top": null,
            "grid_column": null,
            "overflow_y": null,
            "overflow_x": null,
            "grid_auto_flow": null,
            "grid_area": null,
            "grid_template_columns": null,
            "flex": null,
            "_model_name": "LayoutModel",
            "justify_items": null,
            "grid_row": null,
            "max_height": null,
            "align_content": null,
            "visibility": null,
            "align_self": null,
            "height": null,
            "min_height": null,
            "padding": null,
            "grid_auto_rows": null,
            "grid_gap": null,
            "max_width": null,
            "order": null,
            "_view_module_version": "1.2.0",
            "grid_template_areas": null,
            "object_position": null,
            "object_fit": null,
            "grid_auto_columns": null,
            "margin": null,
            "display": null,
            "left": null
          }
        },
        "9ffce81dc942469382667f010c8b6fa9": {
          "model_module": "@jupyter-widgets/controls",
          "model_name": "ProgressStyleModel",
          "model_module_version": "1.5.0",
          "state": {
            "_view_name": "StyleView",
            "_model_name": "ProgressStyleModel",
            "description_width": "",
            "_view_module": "@jupyter-widgets/base",
            "_model_module_version": "1.5.0",
            "_view_count": null,
            "_view_module_version": "1.2.0",
            "bar_color": null,
            "_model_module": "@jupyter-widgets/controls"
          }
        },
        "94801a38c8e349aba6458b7f36451026": {
          "model_module": "@jupyter-widgets/base",
          "model_name": "LayoutModel",
          "model_module_version": "1.2.0",
          "state": {
            "_view_name": "LayoutView",
            "grid_template_rows": null,
            "right": null,
            "justify_content": null,
            "_view_module": "@jupyter-widgets/base",
            "overflow": null,
            "_model_module_version": "1.2.0",
            "_view_count": null,
            "flex_flow": null,
            "width": null,
            "min_width": null,
            "border": null,
            "align_items": null,
            "bottom": null,
            "_model_module": "@jupyter-widgets/base",
            "top": null,
            "grid_column": null,
            "overflow_y": null,
            "overflow_x": null,
            "grid_auto_flow": null,
            "grid_area": null,
            "grid_template_columns": null,
            "flex": null,
            "_model_name": "LayoutModel",
            "justify_items": null,
            "grid_row": null,
            "max_height": null,
            "align_content": null,
            "visibility": null,
            "align_self": null,
            "height": null,
            "min_height": null,
            "padding": null,
            "grid_auto_rows": null,
            "grid_gap": null,
            "max_width": null,
            "order": null,
            "_view_module_version": "1.2.0",
            "grid_template_areas": null,
            "object_position": null,
            "object_fit": null,
            "grid_auto_columns": null,
            "margin": null,
            "display": null,
            "left": null
          }
        },
        "954d8dadd4c04c4f960a41db58e7897c": {
          "model_module": "@jupyter-widgets/controls",
          "model_name": "DescriptionStyleModel",
          "model_module_version": "1.5.0",
          "state": {
            "_view_name": "StyleView",
            "_model_name": "DescriptionStyleModel",
            "description_width": "",
            "_view_module": "@jupyter-widgets/base",
            "_model_module_version": "1.5.0",
            "_view_count": null,
            "_view_module_version": "1.2.0",
            "_model_module": "@jupyter-widgets/controls"
          }
        },
        "8f5e085a0c064caf817ea53f99c887cf": {
          "model_module": "@jupyter-widgets/base",
          "model_name": "LayoutModel",
          "model_module_version": "1.2.0",
          "state": {
            "_view_name": "LayoutView",
            "grid_template_rows": null,
            "right": null,
            "justify_content": null,
            "_view_module": "@jupyter-widgets/base",
            "overflow": null,
            "_model_module_version": "1.2.0",
            "_view_count": null,
            "flex_flow": null,
            "width": null,
            "min_width": null,
            "border": null,
            "align_items": null,
            "bottom": null,
            "_model_module": "@jupyter-widgets/base",
            "top": null,
            "grid_column": null,
            "overflow_y": null,
            "overflow_x": null,
            "grid_auto_flow": null,
            "grid_area": null,
            "grid_template_columns": null,
            "flex": null,
            "_model_name": "LayoutModel",
            "justify_items": null,
            "grid_row": null,
            "max_height": null,
            "align_content": null,
            "visibility": null,
            "align_self": null,
            "height": null,
            "min_height": null,
            "padding": null,
            "grid_auto_rows": null,
            "grid_gap": null,
            "max_width": null,
            "order": null,
            "_view_module_version": "1.2.0",
            "grid_template_areas": null,
            "object_position": null,
            "object_fit": null,
            "grid_auto_columns": null,
            "margin": null,
            "display": null,
            "left": null
          }
        },
        "bb7dd6f6e1a74bd082247e5b5841262d": {
          "model_module": "@jupyter-widgets/controls",
          "model_name": "HBoxModel",
          "model_module_version": "1.5.0",
          "state": {
            "_view_name": "HBoxView",
            "_dom_classes": [],
            "_model_name": "HBoxModel",
            "_view_module": "@jupyter-widgets/controls",
            "_model_module_version": "1.5.0",
            "_view_count": null,
            "_view_module_version": "1.5.0",
            "box_style": "",
            "layout": "IPY_MODEL_33214537d48c4364b79caf6938d6d146",
            "_model_module": "@jupyter-widgets/controls",
            "children": [
              "IPY_MODEL_0b7e798ecde7437291ee10281e4fc8b4",
              "IPY_MODEL_3cddd3e875b542f9ae19ec7df2fcfd88",
              "IPY_MODEL_dd63a2e2b1ba44cebee4929dc1ebd54d"
            ]
          }
        },
        "33214537d48c4364b79caf6938d6d146": {
          "model_module": "@jupyter-widgets/base",
          "model_name": "LayoutModel",
          "model_module_version": "1.2.0",
          "state": {
            "_view_name": "LayoutView",
            "grid_template_rows": null,
            "right": null,
            "justify_content": null,
            "_view_module": "@jupyter-widgets/base",
            "overflow": null,
            "_model_module_version": "1.2.0",
            "_view_count": null,
            "flex_flow": null,
            "width": null,
            "min_width": null,
            "border": null,
            "align_items": null,
            "bottom": null,
            "_model_module": "@jupyter-widgets/base",
            "top": null,
            "grid_column": null,
            "overflow_y": null,
            "overflow_x": null,
            "grid_auto_flow": null,
            "grid_area": null,
            "grid_template_columns": null,
            "flex": null,
            "_model_name": "LayoutModel",
            "justify_items": null,
            "grid_row": null,
            "max_height": null,
            "align_content": null,
            "visibility": null,
            "align_self": null,
            "height": null,
            "min_height": null,
            "padding": null,
            "grid_auto_rows": null,
            "grid_gap": null,
            "max_width": null,
            "order": null,
            "_view_module_version": "1.2.0",
            "grid_template_areas": null,
            "object_position": null,
            "object_fit": null,
            "grid_auto_columns": null,
            "margin": null,
            "display": null,
            "left": null
          }
        },
        "0b7e798ecde7437291ee10281e4fc8b4": {
          "model_module": "@jupyter-widgets/controls",
          "model_name": "HTMLModel",
          "model_module_version": "1.5.0",
          "state": {
            "_view_name": "HTMLView",
            "style": "IPY_MODEL_83c04774fe254d73a5b6cc5206dec8ab",
            "_dom_classes": [],
            "description": "",
            "_model_name": "HTMLModel",
            "placeholder": "​",
            "_view_module": "@jupyter-widgets/controls",
            "_model_module_version": "1.5.0",
            "value": "100%",
            "_view_count": null,
            "_view_module_version": "1.5.0",
            "description_tooltip": null,
            "_model_module": "@jupyter-widgets/controls",
            "layout": "IPY_MODEL_b38083401a874836afb12d8be9c7c00e"
          }
        },
        "3cddd3e875b542f9ae19ec7df2fcfd88": {
          "model_module": "@jupyter-widgets/controls",
          "model_name": "FloatProgressModel",
          "model_module_version": "1.5.0",
          "state": {
            "_view_name": "ProgressView",
            "style": "IPY_MODEL_546e8bfbd3c34b55aec13de9ae0ec74b",
            "_dom_classes": [],
            "description": "",
            "_model_name": "FloatProgressModel",
            "bar_style": "success",
            "max": 256,
            "_view_module": "@jupyter-widgets/controls",
            "_model_module_version": "1.5.0",
            "value": 256,
            "_view_count": null,
            "_view_module_version": "1.5.0",
            "orientation": "horizontal",
            "min": 0,
            "description_tooltip": null,
            "_model_module": "@jupyter-widgets/controls",
            "layout": "IPY_MODEL_45b00df94eb04e8c909bcf2179426882"
          }
        },
        "dd63a2e2b1ba44cebee4929dc1ebd54d": {
          "model_module": "@jupyter-widgets/controls",
          "model_name": "HTMLModel",
          "model_module_version": "1.5.0",
          "state": {
            "_view_name": "HTMLView",
            "style": "IPY_MODEL_223abd6c645b44cfb16decb4d08e91d1",
            "_dom_classes": [],
            "description": "",
            "_model_name": "HTMLModel",
            "placeholder": "​",
            "_view_module": "@jupyter-widgets/controls",
            "_model_module_version": "1.5.0",
            "value": " 256/256 [00:23&lt;00:00, 10.83it/s]",
            "_view_count": null,
            "_view_module_version": "1.5.0",
            "description_tooltip": null,
            "_model_module": "@jupyter-widgets/controls",
            "layout": "IPY_MODEL_d3a19bea07044f7599da1727a1a2731a"
          }
        },
        "83c04774fe254d73a5b6cc5206dec8ab": {
          "model_module": "@jupyter-widgets/controls",
          "model_name": "DescriptionStyleModel",
          "model_module_version": "1.5.0",
          "state": {
            "_view_name": "StyleView",
            "_model_name": "DescriptionStyleModel",
            "description_width": "",
            "_view_module": "@jupyter-widgets/base",
            "_model_module_version": "1.5.0",
            "_view_count": null,
            "_view_module_version": "1.2.0",
            "_model_module": "@jupyter-widgets/controls"
          }
        },
        "b38083401a874836afb12d8be9c7c00e": {
          "model_module": "@jupyter-widgets/base",
          "model_name": "LayoutModel",
          "model_module_version": "1.2.0",
          "state": {
            "_view_name": "LayoutView",
            "grid_template_rows": null,
            "right": null,
            "justify_content": null,
            "_view_module": "@jupyter-widgets/base",
            "overflow": null,
            "_model_module_version": "1.2.0",
            "_view_count": null,
            "flex_flow": null,
            "width": null,
            "min_width": null,
            "border": null,
            "align_items": null,
            "bottom": null,
            "_model_module": "@jupyter-widgets/base",
            "top": null,
            "grid_column": null,
            "overflow_y": null,
            "overflow_x": null,
            "grid_auto_flow": null,
            "grid_area": null,
            "grid_template_columns": null,
            "flex": null,
            "_model_name": "LayoutModel",
            "justify_items": null,
            "grid_row": null,
            "max_height": null,
            "align_content": null,
            "visibility": null,
            "align_self": null,
            "height": null,
            "min_height": null,
            "padding": null,
            "grid_auto_rows": null,
            "grid_gap": null,
            "max_width": null,
            "order": null,
            "_view_module_version": "1.2.0",
            "grid_template_areas": null,
            "object_position": null,
            "object_fit": null,
            "grid_auto_columns": null,
            "margin": null,
            "display": null,
            "left": null
          }
        },
        "546e8bfbd3c34b55aec13de9ae0ec74b": {
          "model_module": "@jupyter-widgets/controls",
          "model_name": "ProgressStyleModel",
          "model_module_version": "1.5.0",
          "state": {
            "_view_name": "StyleView",
            "_model_name": "ProgressStyleModel",
            "description_width": "",
            "_view_module": "@jupyter-widgets/base",
            "_model_module_version": "1.5.0",
            "_view_count": null,
            "_view_module_version": "1.2.0",
            "bar_color": null,
            "_model_module": "@jupyter-widgets/controls"
          }
        },
        "45b00df94eb04e8c909bcf2179426882": {
          "model_module": "@jupyter-widgets/base",
          "model_name": "LayoutModel",
          "model_module_version": "1.2.0",
          "state": {
            "_view_name": "LayoutView",
            "grid_template_rows": null,
            "right": null,
            "justify_content": null,
            "_view_module": "@jupyter-widgets/base",
            "overflow": null,
            "_model_module_version": "1.2.0",
            "_view_count": null,
            "flex_flow": null,
            "width": null,
            "min_width": null,
            "border": null,
            "align_items": null,
            "bottom": null,
            "_model_module": "@jupyter-widgets/base",
            "top": null,
            "grid_column": null,
            "overflow_y": null,
            "overflow_x": null,
            "grid_auto_flow": null,
            "grid_area": null,
            "grid_template_columns": null,
            "flex": null,
            "_model_name": "LayoutModel",
            "justify_items": null,
            "grid_row": null,
            "max_height": null,
            "align_content": null,
            "visibility": null,
            "align_self": null,
            "height": null,
            "min_height": null,
            "padding": null,
            "grid_auto_rows": null,
            "grid_gap": null,
            "max_width": null,
            "order": null,
            "_view_module_version": "1.2.0",
            "grid_template_areas": null,
            "object_position": null,
            "object_fit": null,
            "grid_auto_columns": null,
            "margin": null,
            "display": null,
            "left": null
          }
        },
        "223abd6c645b44cfb16decb4d08e91d1": {
          "model_module": "@jupyter-widgets/controls",
          "model_name": "DescriptionStyleModel",
          "model_module_version": "1.5.0",
          "state": {
            "_view_name": "StyleView",
            "_model_name": "DescriptionStyleModel",
            "description_width": "",
            "_view_module": "@jupyter-widgets/base",
            "_model_module_version": "1.5.0",
            "_view_count": null,
            "_view_module_version": "1.2.0",
            "_model_module": "@jupyter-widgets/controls"
          }
        },
        "d3a19bea07044f7599da1727a1a2731a": {
          "model_module": "@jupyter-widgets/base",
          "model_name": "LayoutModel",
          "model_module_version": "1.2.0",
          "state": {
            "_view_name": "LayoutView",
            "grid_template_rows": null,
            "right": null,
            "justify_content": null,
            "_view_module": "@jupyter-widgets/base",
            "overflow": null,
            "_model_module_version": "1.2.0",
            "_view_count": null,
            "flex_flow": null,
            "width": null,
            "min_width": null,
            "border": null,
            "align_items": null,
            "bottom": null,
            "_model_module": "@jupyter-widgets/base",
            "top": null,
            "grid_column": null,
            "overflow_y": null,
            "overflow_x": null,
            "grid_auto_flow": null,
            "grid_area": null,
            "grid_template_columns": null,
            "flex": null,
            "_model_name": "LayoutModel",
            "justify_items": null,
            "grid_row": null,
            "max_height": null,
            "align_content": null,
            "visibility": null,
            "align_self": null,
            "height": null,
            "min_height": null,
            "padding": null,
            "grid_auto_rows": null,
            "grid_gap": null,
            "max_width": null,
            "order": null,
            "_view_module_version": "1.2.0",
            "grid_template_areas": null,
            "object_position": null,
            "object_fit": null,
            "grid_auto_columns": null,
            "margin": null,
            "display": null,
            "left": null
          }
        },
        "8115f0d1ab5b4d32937800b7e8133c92": {
          "model_module": "@jupyter-widgets/controls",
          "model_name": "HBoxModel",
          "model_module_version": "1.5.0",
          "state": {
            "_view_name": "HBoxView",
            "_dom_classes": [],
            "_model_name": "HBoxModel",
            "_view_module": "@jupyter-widgets/controls",
            "_model_module_version": "1.5.0",
            "_view_count": null,
            "_view_module_version": "1.5.0",
            "box_style": "",
            "layout": "IPY_MODEL_37072e45c7834943bb6e387ea5f8c4f7",
            "_model_module": "@jupyter-widgets/controls",
            "children": [
              "IPY_MODEL_e30756a4e5a446ad8956e5d73016ab44",
              "IPY_MODEL_8fae9d2b3ae7499faf796c43ff7c1f86",
              "IPY_MODEL_e31dcb887375410080cc5532d57d844e"
            ]
          }
        },
        "37072e45c7834943bb6e387ea5f8c4f7": {
          "model_module": "@jupyter-widgets/base",
          "model_name": "LayoutModel",
          "model_module_version": "1.2.0",
          "state": {
            "_view_name": "LayoutView",
            "grid_template_rows": null,
            "right": null,
            "justify_content": null,
            "_view_module": "@jupyter-widgets/base",
            "overflow": null,
            "_model_module_version": "1.2.0",
            "_view_count": null,
            "flex_flow": null,
            "width": null,
            "min_width": null,
            "border": null,
            "align_items": null,
            "bottom": null,
            "_model_module": "@jupyter-widgets/base",
            "top": null,
            "grid_column": null,
            "overflow_y": null,
            "overflow_x": null,
            "grid_auto_flow": null,
            "grid_area": null,
            "grid_template_columns": null,
            "flex": null,
            "_model_name": "LayoutModel",
            "justify_items": null,
            "grid_row": null,
            "max_height": null,
            "align_content": null,
            "visibility": null,
            "align_self": null,
            "height": null,
            "min_height": null,
            "padding": null,
            "grid_auto_rows": null,
            "grid_gap": null,
            "max_width": null,
            "order": null,
            "_view_module_version": "1.2.0",
            "grid_template_areas": null,
            "object_position": null,
            "object_fit": null,
            "grid_auto_columns": null,
            "margin": null,
            "display": null,
            "left": null
          }
        },
        "e30756a4e5a446ad8956e5d73016ab44": {
          "model_module": "@jupyter-widgets/controls",
          "model_name": "HTMLModel",
          "model_module_version": "1.5.0",
          "state": {
            "_view_name": "HTMLView",
            "style": "IPY_MODEL_c0e3309c71a945cdbd60a83b0e2c67fe",
            "_dom_classes": [],
            "description": "",
            "_model_name": "HTMLModel",
            "placeholder": "​",
            "_view_module": "@jupyter-widgets/controls",
            "_model_module_version": "1.5.0",
            "value": "100%",
            "_view_count": null,
            "_view_module_version": "1.5.0",
            "description_tooltip": null,
            "_model_module": "@jupyter-widgets/controls",
            "layout": "IPY_MODEL_3aea3b4f48f84cd78f96c8e89480146f"
          }
        },
        "8fae9d2b3ae7499faf796c43ff7c1f86": {
          "model_module": "@jupyter-widgets/controls",
          "model_name": "FloatProgressModel",
          "model_module_version": "1.5.0",
          "state": {
            "_view_name": "ProgressView",
            "style": "IPY_MODEL_ba19590087874a4ba6e190d1a188c88b",
            "_dom_classes": [],
            "description": "",
            "_model_name": "FloatProgressModel",
            "bar_style": "success",
            "max": 1,
            "_view_module": "@jupyter-widgets/controls",
            "_model_module_version": "1.5.0",
            "value": 1,
            "_view_count": null,
            "_view_module_version": "1.5.0",
            "orientation": "horizontal",
            "min": 0,
            "description_tooltip": null,
            "_model_module": "@jupyter-widgets/controls",
            "layout": "IPY_MODEL_c6a27a5d8c8145c9b061342c993e6190"
          }
        },
        "e31dcb887375410080cc5532d57d844e": {
          "model_module": "@jupyter-widgets/controls",
          "model_name": "HTMLModel",
          "model_module_version": "1.5.0",
          "state": {
            "_view_name": "HTMLView",
            "style": "IPY_MODEL_9547a33706584d7eabdb2dcf89645435",
            "_dom_classes": [],
            "description": "",
            "_model_name": "HTMLModel",
            "placeholder": "​",
            "_view_module": "@jupyter-widgets/controls",
            "_model_module_version": "1.5.0",
            "value": " 1/1 [00:00&lt;00:00,  9.41it/s]",
            "_view_count": null,
            "_view_module_version": "1.5.0",
            "description_tooltip": null,
            "_model_module": "@jupyter-widgets/controls",
            "layout": "IPY_MODEL_af118bcf321243bf8cdca01db4642d42"
          }
        },
        "c0e3309c71a945cdbd60a83b0e2c67fe": {
          "model_module": "@jupyter-widgets/controls",
          "model_name": "DescriptionStyleModel",
          "model_module_version": "1.5.0",
          "state": {
            "_view_name": "StyleView",
            "_model_name": "DescriptionStyleModel",
            "description_width": "",
            "_view_module": "@jupyter-widgets/base",
            "_model_module_version": "1.5.0",
            "_view_count": null,
            "_view_module_version": "1.2.0",
            "_model_module": "@jupyter-widgets/controls"
          }
        },
        "3aea3b4f48f84cd78f96c8e89480146f": {
          "model_module": "@jupyter-widgets/base",
          "model_name": "LayoutModel",
          "model_module_version": "1.2.0",
          "state": {
            "_view_name": "LayoutView",
            "grid_template_rows": null,
            "right": null,
            "justify_content": null,
            "_view_module": "@jupyter-widgets/base",
            "overflow": null,
            "_model_module_version": "1.2.0",
            "_view_count": null,
            "flex_flow": null,
            "width": null,
            "min_width": null,
            "border": null,
            "align_items": null,
            "bottom": null,
            "_model_module": "@jupyter-widgets/base",
            "top": null,
            "grid_column": null,
            "overflow_y": null,
            "overflow_x": null,
            "grid_auto_flow": null,
            "grid_area": null,
            "grid_template_columns": null,
            "flex": null,
            "_model_name": "LayoutModel",
            "justify_items": null,
            "grid_row": null,
            "max_height": null,
            "align_content": null,
            "visibility": null,
            "align_self": null,
            "height": null,
            "min_height": null,
            "padding": null,
            "grid_auto_rows": null,
            "grid_gap": null,
            "max_width": null,
            "order": null,
            "_view_module_version": "1.2.0",
            "grid_template_areas": null,
            "object_position": null,
            "object_fit": null,
            "grid_auto_columns": null,
            "margin": null,
            "display": null,
            "left": null
          }
        },
        "ba19590087874a4ba6e190d1a188c88b": {
          "model_module": "@jupyter-widgets/controls",
          "model_name": "ProgressStyleModel",
          "model_module_version": "1.5.0",
          "state": {
            "_view_name": "StyleView",
            "_model_name": "ProgressStyleModel",
            "description_width": "",
            "_view_module": "@jupyter-widgets/base",
            "_model_module_version": "1.5.0",
            "_view_count": null,
            "_view_module_version": "1.2.0",
            "bar_color": null,
            "_model_module": "@jupyter-widgets/controls"
          }
        },
        "c6a27a5d8c8145c9b061342c993e6190": {
          "model_module": "@jupyter-widgets/base",
          "model_name": "LayoutModel",
          "model_module_version": "1.2.0",
          "state": {
            "_view_name": "LayoutView",
            "grid_template_rows": null,
            "right": null,
            "justify_content": null,
            "_view_module": "@jupyter-widgets/base",
            "overflow": null,
            "_model_module_version": "1.2.0",
            "_view_count": null,
            "flex_flow": null,
            "width": null,
            "min_width": null,
            "border": null,
            "align_items": null,
            "bottom": null,
            "_model_module": "@jupyter-widgets/base",
            "top": null,
            "grid_column": null,
            "overflow_y": null,
            "overflow_x": null,
            "grid_auto_flow": null,
            "grid_area": null,
            "grid_template_columns": null,
            "flex": null,
            "_model_name": "LayoutModel",
            "justify_items": null,
            "grid_row": null,
            "max_height": null,
            "align_content": null,
            "visibility": null,
            "align_self": null,
            "height": null,
            "min_height": null,
            "padding": null,
            "grid_auto_rows": null,
            "grid_gap": null,
            "max_width": null,
            "order": null,
            "_view_module_version": "1.2.0",
            "grid_template_areas": null,
            "object_position": null,
            "object_fit": null,
            "grid_auto_columns": null,
            "margin": null,
            "display": null,
            "left": null
          }
        },
        "9547a33706584d7eabdb2dcf89645435": {
          "model_module": "@jupyter-widgets/controls",
          "model_name": "DescriptionStyleModel",
          "model_module_version": "1.5.0",
          "state": {
            "_view_name": "StyleView",
            "_model_name": "DescriptionStyleModel",
            "description_width": "",
            "_view_module": "@jupyter-widgets/base",
            "_model_module_version": "1.5.0",
            "_view_count": null,
            "_view_module_version": "1.2.0",
            "_model_module": "@jupyter-widgets/controls"
          }
        },
        "af118bcf321243bf8cdca01db4642d42": {
          "model_module": "@jupyter-widgets/base",
          "model_name": "LayoutModel",
          "model_module_version": "1.2.0",
          "state": {
            "_view_name": "LayoutView",
            "grid_template_rows": null,
            "right": null,
            "justify_content": null,
            "_view_module": "@jupyter-widgets/base",
            "overflow": null,
            "_model_module_version": "1.2.0",
            "_view_count": null,
            "flex_flow": null,
            "width": null,
            "min_width": null,
            "border": null,
            "align_items": null,
            "bottom": null,
            "_model_module": "@jupyter-widgets/base",
            "top": null,
            "grid_column": null,
            "overflow_y": null,
            "overflow_x": null,
            "grid_auto_flow": null,
            "grid_area": null,
            "grid_template_columns": null,
            "flex": null,
            "_model_name": "LayoutModel",
            "justify_items": null,
            "grid_row": null,
            "max_height": null,
            "align_content": null,
            "visibility": null,
            "align_self": null,
            "height": null,
            "min_height": null,
            "padding": null,
            "grid_auto_rows": null,
            "grid_gap": null,
            "max_width": null,
            "order": null,
            "_view_module_version": "1.2.0",
            "grid_template_areas": null,
            "object_position": null,
            "object_fit": null,
            "grid_auto_columns": null,
            "margin": null,
            "display": null,
            "left": null
          }
        },
        "bef6266f046540839b17655a050e042d": {
          "model_module": "@jupyter-widgets/controls",
          "model_name": "HBoxModel",
          "model_module_version": "1.5.0",
          "state": {
            "_view_name": "HBoxView",
            "_dom_classes": [],
            "_model_name": "HBoxModel",
            "_view_module": "@jupyter-widgets/controls",
            "_model_module_version": "1.5.0",
            "_view_count": null,
            "_view_module_version": "1.5.0",
            "box_style": "",
            "layout": "IPY_MODEL_5906649059ca49c5b04fff8273364d9e",
            "_model_module": "@jupyter-widgets/controls",
            "children": [
              "IPY_MODEL_dc02b90e45d64010be9c8392cc618b90",
              "IPY_MODEL_98dc39eadb1a4fbdb84a6a4b23888673",
              "IPY_MODEL_1bfa4590683a43e197bc40d8ac2fb873"
            ]
          }
        },
        "5906649059ca49c5b04fff8273364d9e": {
          "model_module": "@jupyter-widgets/base",
          "model_name": "LayoutModel",
          "model_module_version": "1.2.0",
          "state": {
            "_view_name": "LayoutView",
            "grid_template_rows": null,
            "right": null,
            "justify_content": null,
            "_view_module": "@jupyter-widgets/base",
            "overflow": null,
            "_model_module_version": "1.2.0",
            "_view_count": null,
            "flex_flow": null,
            "width": null,
            "min_width": null,
            "border": null,
            "align_items": null,
            "bottom": null,
            "_model_module": "@jupyter-widgets/base",
            "top": null,
            "grid_column": null,
            "overflow_y": null,
            "overflow_x": null,
            "grid_auto_flow": null,
            "grid_area": null,
            "grid_template_columns": null,
            "flex": null,
            "_model_name": "LayoutModel",
            "justify_items": null,
            "grid_row": null,
            "max_height": null,
            "align_content": null,
            "visibility": null,
            "align_self": null,
            "height": null,
            "min_height": null,
            "padding": null,
            "grid_auto_rows": null,
            "grid_gap": null,
            "max_width": null,
            "order": null,
            "_view_module_version": "1.2.0",
            "grid_template_areas": null,
            "object_position": null,
            "object_fit": null,
            "grid_auto_columns": null,
            "margin": null,
            "display": null,
            "left": null
          }
        },
        "dc02b90e45d64010be9c8392cc618b90": {
          "model_module": "@jupyter-widgets/controls",
          "model_name": "HTMLModel",
          "model_module_version": "1.5.0",
          "state": {
            "_view_name": "HTMLView",
            "style": "IPY_MODEL_c8f0699a427b4e14bdc0120d8088aeb9",
            "_dom_classes": [],
            "description": "",
            "_model_name": "HTMLModel",
            "placeholder": "​",
            "_view_module": "@jupyter-widgets/controls",
            "_model_module_version": "1.5.0",
            "value": "100%",
            "_view_count": null,
            "_view_module_version": "1.5.0",
            "description_tooltip": null,
            "_model_module": "@jupyter-widgets/controls",
            "layout": "IPY_MODEL_690524b73be940f5946652ff45cdf91c"
          }
        },
        "98dc39eadb1a4fbdb84a6a4b23888673": {
          "model_module": "@jupyter-widgets/controls",
          "model_name": "FloatProgressModel",
          "model_module_version": "1.5.0",
          "state": {
            "_view_name": "ProgressView",
            "style": "IPY_MODEL_0b3268c7789e47c3a1b014dd3016b622",
            "_dom_classes": [],
            "description": "",
            "_model_name": "FloatProgressModel",
            "bar_style": "success",
            "max": 1,
            "_view_module": "@jupyter-widgets/controls",
            "_model_module_version": "1.5.0",
            "value": 1,
            "_view_count": null,
            "_view_module_version": "1.5.0",
            "orientation": "horizontal",
            "min": 0,
            "description_tooltip": null,
            "_model_module": "@jupyter-widgets/controls",
            "layout": "IPY_MODEL_ffa098b8e650478fa02020ec3c227121"
          }
        },
        "1bfa4590683a43e197bc40d8ac2fb873": {
          "model_module": "@jupyter-widgets/controls",
          "model_name": "HTMLModel",
          "model_module_version": "1.5.0",
          "state": {
            "_view_name": "HTMLView",
            "style": "IPY_MODEL_a5ab0b074f3e40d2bc1c3a184ac4c83d",
            "_dom_classes": [],
            "description": "",
            "_model_name": "HTMLModel",
            "placeholder": "​",
            "_view_module": "@jupyter-widgets/controls",
            "_model_module_version": "1.5.0",
            "value": " 1/1 [00:00&lt;00:00,  8.98it/s]",
            "_view_count": null,
            "_view_module_version": "1.5.0",
            "description_tooltip": null,
            "_model_module": "@jupyter-widgets/controls",
            "layout": "IPY_MODEL_d5b598eed24c482e8406be548ed12937"
          }
        },
        "c8f0699a427b4e14bdc0120d8088aeb9": {
          "model_module": "@jupyter-widgets/controls",
          "model_name": "DescriptionStyleModel",
          "model_module_version": "1.5.0",
          "state": {
            "_view_name": "StyleView",
            "_model_name": "DescriptionStyleModel",
            "description_width": "",
            "_view_module": "@jupyter-widgets/base",
            "_model_module_version": "1.5.0",
            "_view_count": null,
            "_view_module_version": "1.2.0",
            "_model_module": "@jupyter-widgets/controls"
          }
        },
        "690524b73be940f5946652ff45cdf91c": {
          "model_module": "@jupyter-widgets/base",
          "model_name": "LayoutModel",
          "model_module_version": "1.2.0",
          "state": {
            "_view_name": "LayoutView",
            "grid_template_rows": null,
            "right": null,
            "justify_content": null,
            "_view_module": "@jupyter-widgets/base",
            "overflow": null,
            "_model_module_version": "1.2.0",
            "_view_count": null,
            "flex_flow": null,
            "width": null,
            "min_width": null,
            "border": null,
            "align_items": null,
            "bottom": null,
            "_model_module": "@jupyter-widgets/base",
            "top": null,
            "grid_column": null,
            "overflow_y": null,
            "overflow_x": null,
            "grid_auto_flow": null,
            "grid_area": null,
            "grid_template_columns": null,
            "flex": null,
            "_model_name": "LayoutModel",
            "justify_items": null,
            "grid_row": null,
            "max_height": null,
            "align_content": null,
            "visibility": null,
            "align_self": null,
            "height": null,
            "min_height": null,
            "padding": null,
            "grid_auto_rows": null,
            "grid_gap": null,
            "max_width": null,
            "order": null,
            "_view_module_version": "1.2.0",
            "grid_template_areas": null,
            "object_position": null,
            "object_fit": null,
            "grid_auto_columns": null,
            "margin": null,
            "display": null,
            "left": null
          }
        },
        "0b3268c7789e47c3a1b014dd3016b622": {
          "model_module": "@jupyter-widgets/controls",
          "model_name": "ProgressStyleModel",
          "model_module_version": "1.5.0",
          "state": {
            "_view_name": "StyleView",
            "_model_name": "ProgressStyleModel",
            "description_width": "",
            "_view_module": "@jupyter-widgets/base",
            "_model_module_version": "1.5.0",
            "_view_count": null,
            "_view_module_version": "1.2.0",
            "bar_color": null,
            "_model_module": "@jupyter-widgets/controls"
          }
        },
        "ffa098b8e650478fa02020ec3c227121": {
          "model_module": "@jupyter-widgets/base",
          "model_name": "LayoutModel",
          "model_module_version": "1.2.0",
          "state": {
            "_view_name": "LayoutView",
            "grid_template_rows": null,
            "right": null,
            "justify_content": null,
            "_view_module": "@jupyter-widgets/base",
            "overflow": null,
            "_model_module_version": "1.2.0",
            "_view_count": null,
            "flex_flow": null,
            "width": null,
            "min_width": null,
            "border": null,
            "align_items": null,
            "bottom": null,
            "_model_module": "@jupyter-widgets/base",
            "top": null,
            "grid_column": null,
            "overflow_y": null,
            "overflow_x": null,
            "grid_auto_flow": null,
            "grid_area": null,
            "grid_template_columns": null,
            "flex": null,
            "_model_name": "LayoutModel",
            "justify_items": null,
            "grid_row": null,
            "max_height": null,
            "align_content": null,
            "visibility": null,
            "align_self": null,
            "height": null,
            "min_height": null,
            "padding": null,
            "grid_auto_rows": null,
            "grid_gap": null,
            "max_width": null,
            "order": null,
            "_view_module_version": "1.2.0",
            "grid_template_areas": null,
            "object_position": null,
            "object_fit": null,
            "grid_auto_columns": null,
            "margin": null,
            "display": null,
            "left": null
          }
        },
        "a5ab0b074f3e40d2bc1c3a184ac4c83d": {
          "model_module": "@jupyter-widgets/controls",
          "model_name": "DescriptionStyleModel",
          "model_module_version": "1.5.0",
          "state": {
            "_view_name": "StyleView",
            "_model_name": "DescriptionStyleModel",
            "description_width": "",
            "_view_module": "@jupyter-widgets/base",
            "_model_module_version": "1.5.0",
            "_view_count": null,
            "_view_module_version": "1.2.0",
            "_model_module": "@jupyter-widgets/controls"
          }
        },
        "d5b598eed24c482e8406be548ed12937": {
          "model_module": "@jupyter-widgets/base",
          "model_name": "LayoutModel",
          "model_module_version": "1.2.0",
          "state": {
            "_view_name": "LayoutView",
            "grid_template_rows": null,
            "right": null,
            "justify_content": null,
            "_view_module": "@jupyter-widgets/base",
            "overflow": null,
            "_model_module_version": "1.2.0",
            "_view_count": null,
            "flex_flow": null,
            "width": null,
            "min_width": null,
            "border": null,
            "align_items": null,
            "bottom": null,
            "_model_module": "@jupyter-widgets/base",
            "top": null,
            "grid_column": null,
            "overflow_y": null,
            "overflow_x": null,
            "grid_auto_flow": null,
            "grid_area": null,
            "grid_template_columns": null,
            "flex": null,
            "_model_name": "LayoutModel",
            "justify_items": null,
            "grid_row": null,
            "max_height": null,
            "align_content": null,
            "visibility": null,
            "align_self": null,
            "height": null,
            "min_height": null,
            "padding": null,
            "grid_auto_rows": null,
            "grid_gap": null,
            "max_width": null,
            "order": null,
            "_view_module_version": "1.2.0",
            "grid_template_areas": null,
            "object_position": null,
            "object_fit": null,
            "grid_auto_columns": null,
            "margin": null,
            "display": null,
            "left": null
          }
        }
      }
    }
  },
  "cells": [
    {
      "cell_type": "markdown",
      "metadata": {
        "id": "view-in-github",
        "colab_type": "text"
      },
      "source": [
        "<a href=\"https://colab.research.google.com/github/tabasy/fewgen/blob/main/demo.ipynb\" target=\"_parent\"><img src=\"https://colab.research.google.com/assets/colab-badge.svg\" alt=\"Open In Colab\"/></a>"
      ]
    },
    {
      "cell_type": "markdown",
      "source": [
        "# Prepare environment"
      ],
      "metadata": {
        "id": "Mq-VjfKFEulv"
      }
    },
    {
      "cell_type": "code",
      "source": [
        "import os\n",
        "\n",
        "if not os.path.exists('fewgen'):\n",
        "  !git clone https://github.com/tabasy/fewgen.git\n",
        "  !pip install -q -r fewgen/requirements.txt"
      ],
      "metadata": {
        "id": "rSj4WLeKEXWG"
      },
      "execution_count": 1,
      "outputs": []
    },
    {
      "cell_type": "code",
      "source": [
        "import sys\n",
        "sys.path.append('fewgen')\n",
        "\n",
        "import logging\n",
        "from IPython.display import Markdown, HTML, clear_output\n",
        "\n",
        "logging.basicConfig()\n",
        "logging.getLogger().setLevel(logging.INFO)"
      ],
      "metadata": {
        "id": "nZ82obWDE6pV"
      },
      "execution_count": 2,
      "outputs": []
    },
    {
      "cell_type": "markdown",
      "source": [
        "# Define, train model"
      ],
      "metadata": {
        "id": "ziipYD6zLCQY"
      }
    },
    {
      "cell_type": "markdown",
      "source": [
        "First consider a single-input text classification task (our default task is `SST2`). To create a `FewgenClassifier`, we need:\n",
        "* a **language model** along with its tokenizer\n",
        "* some **descriptions** for each class of your task\n",
        "\n",
        "For the language model part, only variants of `GPT2` are tested, but any model instantiated by `transformers.AutoModelForCausalLM` is expected to work."
      ],
      "metadata": {
        "id": "z2VuQDZqyRUl"
      }
    },
    {
      "cell_type": "code",
      "source": [
        "from fewgen.util import load_model\n",
        "\n",
        "tokenizer, language_model = load_model('gpt2-medium', device='cuda')\n",
        "clear_output()"
      ],
      "metadata": {
        "id": "yQXMU6EYHTx1"
      },
      "execution_count": 3,
      "outputs": []
    },
    {
      "cell_type": "markdown",
      "source": [
        "The descriptions are defined as below. Each description has two parts which are separated with a ` / `:\n",
        "> `\" All in all, the movie was a / terrible failure\"`\n",
        "\n",
        " First part acts as a **prompt** and then comes the **answer** part. \n",
        "\n",
        "For training and inference, the descriptions are scored by calculating perplexity change for the answer part (before and after prepending our given input text).\n",
        "> *All in all, the movie was a* ***terrible failure***\n",
        "\n",
        "> I would not recommend it to anyone. *All in all, the movie was a* ***terrible failure***\n"
      ],
      "metadata": {
        "id": "bQ2_vWbv8nOK"
      }
    },
    {
      "cell_type": "markdown",
      "source": [
        "Now you are free to define your own descriptions:"
      ],
      "metadata": {
        "id": "ip6gtkuw_Mu2"
      }
    },
    {
      "cell_type": "code",
      "source": [
        "descriptions = {\n",
        "  # the keys are class labels\n",
        "  'neg': [\n",
        "    \" All in all, the movie was a / terrible failure\",\n",
        "    \" I would give it / zero of 10\",\n",
        "    \" All in all, the screenplay is / poorly written\",\n",
        "    \" I think the actors / played awful\"\n",
        "  ],\n",
        "  'pos': [\n",
        "    \" All in all, the movie was a / masterpiece\",\n",
        "    \" I would give it / 10 stars of 10\",\n",
        "    \" All in all, the screenplay is / very well written\",\n",
        "    \" I think the actors / should win the award\"\n",
        "  ]\n",
        "}"
      ],
      "metadata": {
        "id": "U-d1XC4k8m7Q"
      },
      "execution_count": 4,
      "outputs": []
    },
    {
      "cell_type": "markdown",
      "source": [
        "Now we are ready to instantiate a `FewgenClassifier`:"
      ],
      "metadata": {
        "id": "6igE7IXjB3oL"
      }
    },
    {
      "cell_type": "code",
      "source": [
        "from fewgen.classifier import FewgenClassifier\n",
        "\n",
        "classifier = FewgenClassifier(descriptions=descriptions, \n",
        "                              language_model=language_model,\n",
        "                              tokenizer=tokenizer)"
      ],
      "metadata": {
        "id": "shxgCELEKy38"
      },
      "execution_count": 5,
      "outputs": []
    },
    {
      "cell_type": "markdown",
      "source": [
        "To train our classifier, we need a dataset. It is supposed to be a (huggingface) `datasets.Dataset` instance, including two fields:\n",
        "* the `text` field, our input text\n",
        "* the `label` field, with values matching one of our defined `descriptions.keys()`\n",
        "\n",
        "Our `prepare_dataset` function, makes few-shot experiments easier, but you can create your own dataset in any way possible."
      ],
      "metadata": {
        "id": "qOlCtYlHCAYs"
      }
    },
    {
      "cell_type": "code",
      "source": [
        "from fewgen.dataset import prepare_dataset\n",
        "\n",
        "dataset_params = {\n",
        "    'dataset_name': 'glue/sst2',\n",
        "    'shuffle': True, \n",
        "    'shuffle_seed': 120,\n",
        "    'train_ex_per_class': 16,\n",
        "    'test_ex_per_class': 128,\n",
        "    'test_split_name': 'validation',\n",
        "  }\n",
        "\n",
        "trainset, testset = prepare_dataset(**dataset_params)\n",
        "\n",
        "# converting integer labels to human readable strings\n",
        "labels = classifier.labels\n",
        "\n",
        "def i2label(example):\n",
        "  example['label'] = labels[example['label']]\n",
        "  return example\n",
        "\n",
        "trainset = trainset.map(i2label)\n",
        "testset = testset.map(i2label)\n",
        "clear_output()"
      ],
      "metadata": {
        "id": "xSWvYH3gEXRH"
      },
      "execution_count": 6,
      "outputs": []
    },
    {
      "cell_type": "markdown",
      "source": [
        "It is time to train our model on the small fewshot trainset.\n",
        "\n",
        "Without finetuning language model, the training means fitting a linear model on description scores (as high-level features)."
      ],
      "metadata": {
        "id": "FS7ZXeJPEEXc"
      }
    },
    {
      "cell_type": "code",
      "source": [
        "classifier.train(trainset, finetune_lm=False)\n",
        "classifier.test(testset)"
      ],
      "metadata": {
        "colab": {
          "base_uri": "https://localhost:8080/",
          "height": 168,
          "referenced_widgets": [
            "b0c216732bc843b89a8f01d75067816b",
            "edb3d39dc8c64841bf4c03033a9de9ef",
            "ff263b5016e9440d858de655ca69ace7",
            "2465ee3c46944129a09acd12744f700a",
            "619045ffb2254d4387b6136623e06518",
            "06c3d7cb00fb4849bd2178bcc51b9416",
            "c084f00f8bb5432eb3482340995f42de",
            "9ffce81dc942469382667f010c8b6fa9",
            "94801a38c8e349aba6458b7f36451026",
            "954d8dadd4c04c4f960a41db58e7897c",
            "8f5e085a0c064caf817ea53f99c887cf",
            "bb7dd6f6e1a74bd082247e5b5841262d",
            "33214537d48c4364b79caf6938d6d146",
            "0b7e798ecde7437291ee10281e4fc8b4",
            "3cddd3e875b542f9ae19ec7df2fcfd88",
            "dd63a2e2b1ba44cebee4929dc1ebd54d",
            "83c04774fe254d73a5b6cc5206dec8ab",
            "b38083401a874836afb12d8be9c7c00e",
            "546e8bfbd3c34b55aec13de9ae0ec74b",
            "45b00df94eb04e8c909bcf2179426882",
            "223abd6c645b44cfb16decb4d08e91d1",
            "d3a19bea07044f7599da1727a1a2731a"
          ]
        },
        "id": "XtqSjNneK_A8",
        "outputId": "7847107d-ecf8-45e9-ed93-64565af1d682"
      },
      "execution_count": 7,
      "outputs": [
        {
          "output_type": "display_data",
          "data": {
            "application/vnd.jupyter.widget-view+json": {
              "model_id": "b0c216732bc843b89a8f01d75067816b",
              "version_minor": 0,
              "version_major": 2
            },
            "text/plain": [
              "  0%|          | 0/32 [00:00<?, ?it/s]"
            ]
          },
          "metadata": {}
        },
        {
          "output_type": "stream",
          "name": "stderr",
          "text": [
            "INFO:root:train accuracy: 96.9%\n",
            "INFO:root:train f-score: 96.9%\n"
          ]
        },
        {
          "output_type": "display_data",
          "data": {
            "application/vnd.jupyter.widget-view+json": {
              "model_id": "bb7dd6f6e1a74bd082247e5b5841262d",
              "version_minor": 0,
              "version_major": 2
            },
            "text/plain": [
              "  0%|          | 0/256 [00:00<?, ?it/s]"
            ]
          },
          "metadata": {}
        },
        {
          "output_type": "stream",
          "name": "stderr",
          "text": [
            "INFO:root:test accuracy: 85.5%\n",
            "INFO:root:test f-score: 85.5%\n"
          ]
        },
        {
          "output_type": "execute_result",
          "data": {
            "text/plain": [
              "{'test_acc': 0.85546875, 'test_f1': 0.855360605921786}"
            ]
          },
          "metadata": {},
          "execution_count": 7
        }
      ]
    },
    {
      "cell_type": "markdown",
      "source": [
        "And we have the option to finetune language model and get better results.\n",
        "> **We recommend you to skip the following code cell and play with the frozen-LM classifier first.\n",
        "Then you can come back, finetune and see the differences...**"
      ],
      "metadata": {
        "id": "dzMVUFXpEkKn"
      }
    },
    {
      "cell_type": "code",
      "source": [
        "# classifier.train(trainset, finetune_lm=True, finetune_args=dict(epochs=3))\n",
        "# classifier.test(testset)"
      ],
      "metadata": {
        "id": "vmJuSGKkNsDz"
      },
      "execution_count": 8,
      "outputs": []
    },
    {
      "cell_type": "markdown",
      "source": [
        "# Check model predictions"
      ],
      "metadata": {
        "id": "zNghfmPTL3ZT"
      }
    },
    {
      "cell_type": "markdown",
      "source": [
        "We have a traind classifier and we are going to watch it in action:"
      ],
      "metadata": {
        "id": "FBgIkdmtGacM"
      }
    },
    {
      "cell_type": "code",
      "source": [
        "#@title classify input text\n",
        "text = \"I would not recommend it to anyone.\" #@param {type:\"string\"}\n",
        "\n",
        "probs = classifier.predict_proba(text)[0]\n",
        "pred = classifier.classify(text)\n",
        "\n",
        "clear_output()\n",
        "print(f'prediction: {pred[0]}\\n')\n",
        "for label, prob in zip(classifier.labels, probs):\n",
        "  print(f'{label}:\\t{prob:.1%}')"
      ],
      "metadata": {
        "colab": {
          "base_uri": "https://localhost:8080/",
          "height": 81,
          "referenced_widgets": [
            "8115f0d1ab5b4d32937800b7e8133c92",
            "37072e45c7834943bb6e387ea5f8c4f7",
            "e30756a4e5a446ad8956e5d73016ab44",
            "8fae9d2b3ae7499faf796c43ff7c1f86",
            "e31dcb887375410080cc5532d57d844e",
            "c0e3309c71a945cdbd60a83b0e2c67fe",
            "3aea3b4f48f84cd78f96c8e89480146f",
            "ba19590087874a4ba6e190d1a188c88b",
            "c6a27a5d8c8145c9b061342c993e6190",
            "9547a33706584d7eabdb2dcf89645435",
            "af118bcf321243bf8cdca01db4642d42",
            "bef6266f046540839b17655a050e042d",
            "5906649059ca49c5b04fff8273364d9e",
            "dc02b90e45d64010be9c8392cc618b90",
            "98dc39eadb1a4fbdb84a6a4b23888673",
            "1bfa4590683a43e197bc40d8ac2fb873",
            "c8f0699a427b4e14bdc0120d8088aeb9",
            "690524b73be940f5946652ff45cdf91c",
            "0b3268c7789e47c3a1b014dd3016b622",
            "ffa098b8e650478fa02020ec3c227121",
            "a5ab0b074f3e40d2bc1c3a184ac4c83d",
            "d5b598eed24c482e8406be548ed12937"
          ]
        },
        "cellView": "form",
        "id": "mIa75rMNOItp",
        "outputId": "3cae63f3-93bc-4b7b-8b9a-20e83f9fc371"
      },
      "execution_count": 9,
      "outputs": [
        {
          "output_type": "stream",
          "name": "stdout",
          "text": [
            "prediction: neg\n",
            "\n",
            "neg:\t89.1%\n",
            "pos:\t10.9%\n"
          ]
        }
      ]
    },
    {
      "cell_type": "markdown",
      "source": [
        "One of the benefits of prompt-based methods (most of them), is their **interpretability**. As the prompt and the answers are humanly understandable, we expect to understand how the model decides (in some levels)!\n",
        "\n",
        "Here we can check how prepending the input text to a description, changes the probability of answer words (and th conditional perplexity). \n",
        "> <font color=\"LimeGreen\"> **Green** </font> means the probability has increased after adding the input text."
      ],
      "metadata": {
        "id": "DQ8Da-MpHDPW"
      }
    },
    {
      "cell_type": "code",
      "source": [
        "#@title probability change of answer words\n",
        "text = \"I would not recommend it to anyone.\" #@param {type:\"string\"}\n",
        "from fewgen.explain import show_prob_changes\n",
        "\n",
        "for desc in classifier.descriptions:\n",
        "  viz = show_prob_changes(classifier.lm, classifier.tokenizer, desc, text)\n",
        "  display(HTML(viz))"
      ],
      "metadata": {
        "colab": {
          "base_uri": "https://localhost:8080/",
          "height": 216
        },
        "id": "qMji2amHL8mi",
        "outputId": "2971b556-32a7-472b-a52a-ee14b33205f2"
      },
      "execution_count": 10,
      "outputs": [
        {
          "output_type": "display_data",
          "data": {
            "text/html": [
              "<html><head><link href=\"https://fonts.googleapis.com/css?family=Roboto+Mono&display=swap\" rel=\"stylesheet\">\n",
              "               <style>span.vizatt { font-family: \"Roboto Mono\", monospace; font-size: 14px; padding: 2px} .c0-0-feffbe { background-color: #feffbe; } .c0-1-feffbe { background-color: #feffbe; } .c0-2-feffbe { background-color: #feffbe; } .c0-3-feffbe { background-color: #feffbe; } .c0-4-feffbe { background-color: #feffbe; } .c0-5-feffbe { background-color: #feffbe; } .c0-6-feffbe { background-color: #feffbe; } .c0-7-feffbe { background-color: #feffbe; } .c0-8-feffbe { background-color: #feffbe; } .c0-9-feffbe { background-color: #feffbe; } .c0-10-feffbe { background-color: #feffbe; } .c0-11-feffbe { background-color: #feffbe; } .c0-12-feffbe { background-color: #feffbe; } .c0-13-feffbe { background-color: #feffbe; } .c0-14-feffbe { background-color: #feffbe; } .c0-15-feffbe { background-color: #feffbe; } .c0-16-006837 { background-color: #006837; } .c0-17-fdb163 { background-color: #fdb163; }</style>\n",
              "               </head><body><p dir=\"ltr\"><span class=\"vizatt c0-0-feffbe\">I </span> <span class=\"vizatt c0-1-feffbe\"> would </span> <span class=\"vizatt c0-2-feffbe\"> not </span> <span class=\"vizatt c0-3-feffbe\"> recommend </span> <span class=\"vizatt c0-4-feffbe\"> it </span> <span class=\"vizatt c0-5-feffbe\"> to </span> <span class=\"vizatt c0-6-feffbe\"> anyone </span> <span class=\"vizatt c0-7-feffbe\">. </span> <span class=\"vizatt c0-8-feffbe\"> All </span> <span class=\"vizatt c0-9-feffbe\"> in </span> <span class=\"vizatt c0-10-feffbe\"> all </span> <span class=\"vizatt c0-11-feffbe\">, </span> <span class=\"vizatt c0-12-feffbe\"> the </span> <span class=\"vizatt c0-13-feffbe\"> movie </span> <span class=\"vizatt c0-14-feffbe\"> was </span> <span class=\"vizatt c0-15-feffbe\"> a </span> <span class=\"vizatt c0-16-006837\"> terrible </span> <span class=\"vizatt c0-17-fdb163\"> failure </span></p></body></html>"
            ],
            "text/plain": [
              "<IPython.core.display.HTML object>"
            ]
          },
          "metadata": {}
        },
        {
          "output_type": "display_data",
          "data": {
            "text/html": [
              "<html><head><link href=\"https://fonts.googleapis.com/css?family=Roboto+Mono&display=swap\" rel=\"stylesheet\">\n",
              "               <style>span.vizatt { font-family: \"Roboto Mono\", monospace; font-size: 14px; padding: 2px} .c0-0-feffbe { background-color: #feffbe; } .c0-1-feffbe { background-color: #feffbe; } .c0-2-feffbe { background-color: #feffbe; } .c0-3-feffbe { background-color: #feffbe; } .c0-4-feffbe { background-color: #feffbe; } .c0-5-feffbe { background-color: #feffbe; } .c0-6-feffbe { background-color: #feffbe; } .c0-7-feffbe { background-color: #feffbe; } .c0-8-feffbe { background-color: #feffbe; } .c0-9-feffbe { background-color: #feffbe; } .c0-10-feffbe { background-color: #feffbe; } .c0-11-feffbe { background-color: #feffbe; } .c0-12-91d068 { background-color: #91d068; } .c0-13-fed683 { background-color: #fed683; } .c0-14-fff1a8 { background-color: #fff1a8; }</style>\n",
              "               </head><body><p dir=\"ltr\"><span class=\"vizatt c0-0-feffbe\">I </span> <span class=\"vizatt c0-1-feffbe\"> would </span> <span class=\"vizatt c0-2-feffbe\"> not </span> <span class=\"vizatt c0-3-feffbe\"> recommend </span> <span class=\"vizatt c0-4-feffbe\"> it </span> <span class=\"vizatt c0-5-feffbe\"> to </span> <span class=\"vizatt c0-6-feffbe\"> anyone </span> <span class=\"vizatt c0-7-feffbe\">. </span> <span class=\"vizatt c0-8-feffbe\"> I </span> <span class=\"vizatt c0-9-feffbe\"> would </span> <span class=\"vizatt c0-10-feffbe\"> give </span> <span class=\"vizatt c0-11-feffbe\"> it </span> <span class=\"vizatt c0-12-91d068\"> zero </span> <span class=\"vizatt c0-13-fed683\"> of </span> <span class=\"vizatt c0-14-fff1a8\"> 10 </span></p></body></html>"
            ],
            "text/plain": [
              "<IPython.core.display.HTML object>"
            ]
          },
          "metadata": {}
        },
        {
          "output_type": "display_data",
          "data": {
            "text/html": [
              "<html><head><link href=\"https://fonts.googleapis.com/css?family=Roboto+Mono&display=swap\" rel=\"stylesheet\">\n",
              "               <style>span.vizatt { font-family: \"Roboto Mono\", monospace; font-size: 14px; padding: 2px} .c0-0-feffbe { background-color: #feffbe; } .c0-1-feffbe { background-color: #feffbe; } .c0-2-feffbe { background-color: #feffbe; } .c0-3-feffbe { background-color: #feffbe; } .c0-4-feffbe { background-color: #feffbe; } .c0-5-feffbe { background-color: #feffbe; } .c0-6-feffbe { background-color: #feffbe; } .c0-7-feffbe { background-color: #feffbe; } .c0-8-feffbe { background-color: #feffbe; } .c0-9-feffbe { background-color: #feffbe; } .c0-10-feffbe { background-color: #feffbe; } .c0-11-feffbe { background-color: #feffbe; } .c0-12-feffbe { background-color: #feffbe; } .c0-13-feffbe { background-color: #feffbe; } .c0-14-feffbe { background-color: #feffbe; } .c0-15-006837 { background-color: #006837; } .c0-16-8ecf67 { background-color: #8ecf67; }</style>\n",
              "               </head><body><p dir=\"ltr\"><span class=\"vizatt c0-0-feffbe\">I </span> <span class=\"vizatt c0-1-feffbe\"> would </span> <span class=\"vizatt c0-2-feffbe\"> not </span> <span class=\"vizatt c0-3-feffbe\"> recommend </span> <span class=\"vizatt c0-4-feffbe\"> it </span> <span class=\"vizatt c0-5-feffbe\"> to </span> <span class=\"vizatt c0-6-feffbe\"> anyone </span> <span class=\"vizatt c0-7-feffbe\">. </span> <span class=\"vizatt c0-8-feffbe\"> All </span> <span class=\"vizatt c0-9-feffbe\"> in </span> <span class=\"vizatt c0-10-feffbe\"> all </span> <span class=\"vizatt c0-11-feffbe\">, </span> <span class=\"vizatt c0-12-feffbe\"> the </span> <span class=\"vizatt c0-13-feffbe\"> screenplay </span> <span class=\"vizatt c0-14-feffbe\"> is </span> <span class=\"vizatt c0-15-006837\"> poorly </span> <span class=\"vizatt c0-16-8ecf67\"> written </span></p></body></html>"
            ],
            "text/plain": [
              "<IPython.core.display.HTML object>"
            ]
          },
          "metadata": {}
        },
        {
          "output_type": "display_data",
          "data": {
            "text/html": [
              "<html><head><link href=\"https://fonts.googleapis.com/css?family=Roboto+Mono&display=swap\" rel=\"stylesheet\">\n",
              "               <style>span.vizatt { font-family: \"Roboto Mono\", monospace; font-size: 14px; padding: 2px} .c0-0-feffbe { background-color: #feffbe; } .c0-1-feffbe { background-color: #feffbe; } .c0-2-feffbe { background-color: #feffbe; } .c0-3-feffbe { background-color: #feffbe; } .c0-4-feffbe { background-color: #feffbe; } .c0-5-feffbe { background-color: #feffbe; } .c0-6-feffbe { background-color: #feffbe; } .c0-7-feffbe { background-color: #feffbe; } .c0-8-feffbe { background-color: #feffbe; } .c0-9-feffbe { background-color: #feffbe; } .c0-10-feffbe { background-color: #feffbe; } .c0-11-feffbe { background-color: #feffbe; } .c0-12-fecc7b { background-color: #fecc7b; } .c0-13-c5e67e { background-color: #c5e67e; }</style>\n",
              "               </head><body><p dir=\"ltr\"><span class=\"vizatt c0-0-feffbe\">I </span> <span class=\"vizatt c0-1-feffbe\"> would </span> <span class=\"vizatt c0-2-feffbe\"> not </span> <span class=\"vizatt c0-3-feffbe\"> recommend </span> <span class=\"vizatt c0-4-feffbe\"> it </span> <span class=\"vizatt c0-5-feffbe\"> to </span> <span class=\"vizatt c0-6-feffbe\"> anyone </span> <span class=\"vizatt c0-7-feffbe\">. </span> <span class=\"vizatt c0-8-feffbe\"> I </span> <span class=\"vizatt c0-9-feffbe\"> think </span> <span class=\"vizatt c0-10-feffbe\"> the </span> <span class=\"vizatt c0-11-feffbe\"> actors </span> <span class=\"vizatt c0-12-fecc7b\"> played </span> <span class=\"vizatt c0-13-c5e67e\"> awful </span></p></body></html>"
            ],
            "text/plain": [
              "<IPython.core.display.HTML object>"
            ]
          },
          "metadata": {}
        },
        {
          "output_type": "display_data",
          "data": {
            "text/html": [
              "<html><head><link href=\"https://fonts.googleapis.com/css?family=Roboto+Mono&display=swap\" rel=\"stylesheet\">\n",
              "               <style>span.vizatt { font-family: \"Roboto Mono\", monospace; font-size: 14px; padding: 2px} .c0-0-feffbe { background-color: #feffbe; } .c0-1-feffbe { background-color: #feffbe; } .c0-2-feffbe { background-color: #feffbe; } .c0-3-feffbe { background-color: #feffbe; } .c0-4-feffbe { background-color: #feffbe; } .c0-5-feffbe { background-color: #feffbe; } .c0-6-feffbe { background-color: #feffbe; } .c0-7-feffbe { background-color: #feffbe; } .c0-8-feffbe { background-color: #feffbe; } .c0-9-feffbe { background-color: #feffbe; } .c0-10-feffbe { background-color: #feffbe; } .c0-11-feffbe { background-color: #feffbe; } .c0-12-feffbe { background-color: #feffbe; } .c0-13-feffbe { background-color: #feffbe; } .c0-14-feffbe { background-color: #feffbe; } .c0-15-feffbe { background-color: #feffbe; } .c0-16-be1827 { background-color: #be1827; }</style>\n",
              "               </head><body><p dir=\"ltr\"><span class=\"vizatt c0-0-feffbe\">I </span> <span class=\"vizatt c0-1-feffbe\"> would </span> <span class=\"vizatt c0-2-feffbe\"> not </span> <span class=\"vizatt c0-3-feffbe\"> recommend </span> <span class=\"vizatt c0-4-feffbe\"> it </span> <span class=\"vizatt c0-5-feffbe\"> to </span> <span class=\"vizatt c0-6-feffbe\"> anyone </span> <span class=\"vizatt c0-7-feffbe\">. </span> <span class=\"vizatt c0-8-feffbe\"> All </span> <span class=\"vizatt c0-9-feffbe\"> in </span> <span class=\"vizatt c0-10-feffbe\"> all </span> <span class=\"vizatt c0-11-feffbe\">, </span> <span class=\"vizatt c0-12-feffbe\"> the </span> <span class=\"vizatt c0-13-feffbe\"> movie </span> <span class=\"vizatt c0-14-feffbe\"> was </span> <span class=\"vizatt c0-15-feffbe\"> a </span> <span class=\"vizatt c0-16-be1827\"> masterpiece </span></p></body></html>"
            ],
            "text/plain": [
              "<IPython.core.display.HTML object>"
            ]
          },
          "metadata": {}
        },
        {
          "output_type": "display_data",
          "data": {
            "text/html": [
              "<html><head><link href=\"https://fonts.googleapis.com/css?family=Roboto+Mono&display=swap\" rel=\"stylesheet\">\n",
              "               <style>span.vizatt { font-family: \"Roboto Mono\", monospace; font-size: 14px; padding: 2px} .c0-0-feffbe { background-color: #feffbe; } .c0-1-feffbe { background-color: #feffbe; } .c0-2-feffbe { background-color: #feffbe; } .c0-3-feffbe { background-color: #feffbe; } .c0-4-feffbe { background-color: #feffbe; } .c0-5-feffbe { background-color: #feffbe; } .c0-6-feffbe { background-color: #feffbe; } .c0-7-feffbe { background-color: #feffbe; } .c0-8-feffbe { background-color: #feffbe; } .c0-9-feffbe { background-color: #feffbe; } .c0-10-feffbe { background-color: #feffbe; } .c0-11-feffbe { background-color: #feffbe; } .c0-12-fba05b { background-color: #fba05b; } .c0-13-8ecf67 { background-color: #8ecf67; } .c0-14-fff6b0 { background-color: #fff6b0; } .c0-15-c5e67e { background-color: #c5e67e; }</style>\n",
              "               </head><body><p dir=\"ltr\"><span class=\"vizatt c0-0-feffbe\">I </span> <span class=\"vizatt c0-1-feffbe\"> would </span> <span class=\"vizatt c0-2-feffbe\"> not </span> <span class=\"vizatt c0-3-feffbe\"> recommend </span> <span class=\"vizatt c0-4-feffbe\"> it </span> <span class=\"vizatt c0-5-feffbe\"> to </span> <span class=\"vizatt c0-6-feffbe\"> anyone </span> <span class=\"vizatt c0-7-feffbe\">. </span> <span class=\"vizatt c0-8-feffbe\"> I </span> <span class=\"vizatt c0-9-feffbe\"> would </span> <span class=\"vizatt c0-10-feffbe\"> give </span> <span class=\"vizatt c0-11-feffbe\"> it </span> <span class=\"vizatt c0-12-fba05b\"> 10 </span> <span class=\"vizatt c0-13-8ecf67\"> stars </span> <span class=\"vizatt c0-14-fff6b0\"> of </span> <span class=\"vizatt c0-15-c5e67e\"> 10 </span></p></body></html>"
            ],
            "text/plain": [
              "<IPython.core.display.HTML object>"
            ]
          },
          "metadata": {}
        },
        {
          "output_type": "display_data",
          "data": {
            "text/html": [
              "<html><head><link href=\"https://fonts.googleapis.com/css?family=Roboto+Mono&display=swap\" rel=\"stylesheet\">\n",
              "               <style>span.vizatt { font-family: \"Roboto Mono\", monospace; font-size: 14px; padding: 2px} .c0-0-feffbe { background-color: #feffbe; } .c0-1-feffbe { background-color: #feffbe; } .c0-2-feffbe { background-color: #feffbe; } .c0-3-feffbe { background-color: #feffbe; } .c0-4-feffbe { background-color: #feffbe; } .c0-5-feffbe { background-color: #feffbe; } .c0-6-feffbe { background-color: #feffbe; } .c0-7-feffbe { background-color: #feffbe; } .c0-8-feffbe { background-color: #feffbe; } .c0-9-feffbe { background-color: #feffbe; } .c0-10-feffbe { background-color: #feffbe; } .c0-11-feffbe { background-color: #feffbe; } .c0-12-feffbe { background-color: #feffbe; } .c0-13-feffbe { background-color: #feffbe; } .c0-14-feffbe { background-color: #feffbe; } .c0-15-dcf08f { background-color: #dcf08f; } .c0-16-a50026 { background-color: #a50026; } .c0-17-7fc866 { background-color: #7fc866; }</style>\n",
              "               </head><body><p dir=\"ltr\"><span class=\"vizatt c0-0-feffbe\">I </span> <span class=\"vizatt c0-1-feffbe\"> would </span> <span class=\"vizatt c0-2-feffbe\"> not </span> <span class=\"vizatt c0-3-feffbe\"> recommend </span> <span class=\"vizatt c0-4-feffbe\"> it </span> <span class=\"vizatt c0-5-feffbe\"> to </span> <span class=\"vizatt c0-6-feffbe\"> anyone </span> <span class=\"vizatt c0-7-feffbe\">. </span> <span class=\"vizatt c0-8-feffbe\"> All </span> <span class=\"vizatt c0-9-feffbe\"> in </span> <span class=\"vizatt c0-10-feffbe\"> all </span> <span class=\"vizatt c0-11-feffbe\">, </span> <span class=\"vizatt c0-12-feffbe\"> the </span> <span class=\"vizatt c0-13-feffbe\"> screenplay </span> <span class=\"vizatt c0-14-feffbe\"> is </span> <span class=\"vizatt c0-15-dcf08f\"> very </span> <span class=\"vizatt c0-16-a50026\"> well </span> <span class=\"vizatt c0-17-7fc866\"> written </span></p></body></html>"
            ],
            "text/plain": [
              "<IPython.core.display.HTML object>"
            ]
          },
          "metadata": {}
        },
        {
          "output_type": "display_data",
          "data": {
            "text/html": [
              "<html><head><link href=\"https://fonts.googleapis.com/css?family=Roboto+Mono&display=swap\" rel=\"stylesheet\">\n",
              "               <style>span.vizatt { font-family: \"Roboto Mono\", monospace; font-size: 14px; padding: 2px} .c0-0-feffbe { background-color: #feffbe; } .c0-1-feffbe { background-color: #feffbe; } .c0-2-feffbe { background-color: #feffbe; } .c0-3-feffbe { background-color: #feffbe; } .c0-4-feffbe { background-color: #feffbe; } .c0-5-feffbe { background-color: #feffbe; } .c0-6-feffbe { background-color: #feffbe; } .c0-7-feffbe { background-color: #feffbe; } .c0-8-feffbe { background-color: #feffbe; } .c0-9-feffbe { background-color: #feffbe; } .c0-10-feffbe { background-color: #feffbe; } .c0-11-feffbe { background-color: #feffbe; } .c0-12-f5fbb2 { background-color: #f5fbb2; } .c0-13-fed683 { background-color: #fed683; } .c0-14-dff293 { background-color: #dff293; } .c0-15-feeb9d { background-color: #feeb9d; }</style>\n",
              "               </head><body><p dir=\"ltr\"><span class=\"vizatt c0-0-feffbe\">I </span> <span class=\"vizatt c0-1-feffbe\"> would </span> <span class=\"vizatt c0-2-feffbe\"> not </span> <span class=\"vizatt c0-3-feffbe\"> recommend </span> <span class=\"vizatt c0-4-feffbe\"> it </span> <span class=\"vizatt c0-5-feffbe\"> to </span> <span class=\"vizatt c0-6-feffbe\"> anyone </span> <span class=\"vizatt c0-7-feffbe\">. </span> <span class=\"vizatt c0-8-feffbe\"> I </span> <span class=\"vizatt c0-9-feffbe\"> think </span> <span class=\"vizatt c0-10-feffbe\"> the </span> <span class=\"vizatt c0-11-feffbe\"> actors </span> <span class=\"vizatt c0-12-f5fbb2\"> should </span> <span class=\"vizatt c0-13-fed683\"> win </span> <span class=\"vizatt c0-14-dff293\"> the </span> <span class=\"vizatt c0-15-feeb9d\"> award </span></p></body></html>"
            ],
            "text/plain": [
              "<IPython.core.display.HTML object>"
            ]
          },
          "metadata": {}
        }
      ]
    },
    {
      "cell_type": "markdown",
      "source": [
        "What do you see? Does the language model think(!) as you expected?!"
      ],
      "metadata": {
        "id": "VbEOIYKkK314"
      }
    }
  ]
}